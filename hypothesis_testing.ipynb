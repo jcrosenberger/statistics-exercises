{
 "cells": [
  {
   "cell_type": "code",
   "execution_count": 39,
   "id": "d1f13505-6481-4cac-8c8e-b32a89b0705d",
   "metadata": {},
   "outputs": [],
   "source": [
    "import matplotlib.pyplot as plt\n",
    "import numpy as np\n",
    "import pandas as pd\n",
    "import scipy.stats as stats\n",
    "import seaborn as sns\n",
    "import random\n",
    "from pydataset import data\n",
    "random.seed(777)"
   ]
  },
  {
   "cell_type": "code",
   "execution_count": 2,
   "id": "ac4f813d-00d7-41e3-84d1-26f7acc1c968",
   "metadata": {},
   "outputs": [],
   "source": [
    "churn = pd.read_csv('/Users/CryanRedrose/codeup-data-science/CodeUp/telco-churn.xls')"
   ]
  },
  {
   "cell_type": "markdown",
   "id": "49cd55ae-a056-4d9a-a0f0-6d375bddac15",
   "metadata": {},
   "source": [
    "## Exercises\n",
    "### For each of the following questions, formulate a null and alternative hypothesis (be as specific as you can be), then give an example of what a true positive, true negative, type I and type II errors would look like."
   ]
  },
  {
   "cell_type": "markdown",
   "id": "c993760e-d807-46aa-93f0-619c71a49c0d",
   "metadata": {},
   "source": [
    "### 1. Has the network latency gone up since we switched internet service providers?"
   ]
  },
  {
   "cell_type": "markdown",
   "id": "8d4de32a-5dca-4d5f-bc9b-5ba787e38ff4",
   "metadata": {},
   "source": [
    "- I prefered two tests: \n",
    "1. Is there a difference in latency?\n",
    "    - $H_{0}$ network latency with ISP A == network latency with ISP B <br>\n",
    "    - $H_{A}$ network latency with ISP A != network latency with ISP B\n",
    "\n",
    "2. Did latency with ISP B get worse? (go up)\n",
    "    - $H_{0}$ network latency with ISP B > network latency with ISP A\n",
    "    - $H_{A}$ network latency with ISP B <= network latency with ISP A\n",
    "\n",
    "- True positive:\n",
    "    - Network latency with ISP B is not different than Network latency with ISP A and it is true\n",
    "- True negative:\n",
    "    - Network latency with ISP B is different than Network latency with ISP A and it is true\n",
    "- False positive:\n",
    "    - Network latency with ISP B is not different than Network latency with ISP A but it is not true\n",
    "- False negative:\n",
    "    - Network latency with ISP B is diffeent than Network latency with ISP A but we claimed it was not different"
   ]
  },
  {
   "cell_type": "markdown",
   "id": "942f38a8-3431-4d46-a61b-d11e5bb4ce70",
   "metadata": {},
   "source": [
    "### 2. Is the website redesign any good?"
   ]
  },
  {
   "cell_type": "markdown",
   "id": "18c8fded-1a6a-4155-b7e2-bd268633426a",
   "metadata": {},
   "source": [
    "### 3. Is our television ad driving more sales?"
   ]
  },
  {
   "cell_type": "markdown",
   "id": "fa14d545-1546-4e8b-a242-aa9cc0d0ee63",
   "metadata": {},
   "source": [
    "#### Did sales increase after new adverts?\n",
    "    \n",
    "$H_{0}$ $\\overline{sales}$ prior to new adverts >= $\\overline{sales}$ post new adverts <br>\n",
    "$H_{A}$ $\\overline{sales}$ prior to new adverts < $\\overline{sales}$ post new adverts \n",
    "     \n",
    "- True positive:\n",
    "     - sales post new adverts > than pre adverts and true\n",
    "- True negative:\n",
    "    - sales post new adverts <= than pre adverts and true\n",
    "- False positive:\n",
    "    - sales post new adverts > than pre adverts but false\n",
    "- False negative:\n",
    "    - sale post new adverts <= than pre adverts but false"
   ]
  },
  {
   "cell_type": "markdown",
   "id": "7cfa6254-e731-44f4-8e21-072bcdf9e5a8",
   "metadata": {},
   "source": [
    "## Exercises Cont ..."
   ]
  },
  {
   "cell_type": "markdown",
   "id": "b3ddfcad-9f18-4f5b-9c77-2bf526eb1779",
   "metadata": {},
   "source": [
    "### 1. Answer with the type of test you would use (assume normal distribution):\n",
    "\n",
    "- Is there a difference in grades of students on the second floor compared to grades of all students?\n",
    "- Are adults who drink milk taller than adults who dont drink milk?\n",
    "- Is the the price of gas higher in texas or in new mexico?\n",
    "- Are there differences in stress levels between students who take data science vs students who take web development vs students who take cloud academy?"
   ]
  },
  {
   "cell_type": "markdown",
   "id": "b74740c8-8067-4b23-b7c4-f5c8b4172834",
   "metadata": {},
   "source": [
    "1. Two-tailed, one sample\n",
    "\n",
    "|||  \n",
    "|-|----------|\n",
    "|$H_0$:| Grades of second floor students == Grades of all other students|\n",
    "|$H_A$:| Grades of second floor students != Grades of all other students |\n",
    "\n",
    "2. One-tailed, two samples\n",
    "\n",
    "|||  \n",
    "|-|----------|\n",
    "|$H_0$:| Height of adults who drink milk <= Height of adults who do not drink milk |\n",
    "|$H_A$:| Height of adults who drink milk > Height of adults who do not drink milk |\n",
    "\n",
    "3. One-tailed, two samples <br>\n",
    "- This one should be split into two questins to avoid bias in the question:\n",
    "$H_0$ Price of Gas in New Mexico == Price of Gas in Texas <br>\n",
    "$H_A$ Price of Gas in New Mexico != Price of Gas in Texas \n",
    "- Here we need to figure out which one we want to know. Is the interesting question involving whether gas prices are higher in Texas or is it that gas prices are higher in New Mexico?\n",
    "$H_0$ Price of Gas in New Mexico >= Gas prices in Texas <br>\n",
    "$H_A$ Price of Gas in New Mexico < Price of Gas in Texas\n",
    "\n",
    "4. ANOVA, three samples <br>\n",
    "- This can be done with a joint hypothesis (stress of group 1 = group 2 = group 3) but it can be done with two tests also\n",
    "\n",
    "$H_0$ Stress Group 1 == Group 2 == Group 3 <br>\n",
    "$H_A$ Stress for Group != for any group\n",
    "\n",
    "- alternative tests <br>\n",
    "$H_0$ Stress Group 1 == Group 2 <br>\n",
    "$H_0$ Stress Group 1 == Group 3 <br>\n",
    "\n",
    "    If either hypothesis fails, then the equality does not hold across all groups <br> \n",
    "    $H_A$ Stress Group 1 != Group 2 != Group 3 <br>\n",
    "\n"
   ]
  },
  {
   "cell_type": "markdown",
   "id": "aa2d382e-150e-4085-9dc8-2c5913ef3cf1",
   "metadata": {},
   "source": [
    "### 2. Ace Realty wants to determine whether the average time it takes to sell homes is different for its two offices. \n",
    "\n",
    "### A sample of 40 sales from office #1 revealed a mean of 90 days and a standard deviation of 15 days. \n",
    "### A sample of 50 sales from office #2 revealed a mean of 100 days and a standard deviation of 20 days. Use a .05 level of significance.\n",
    "\n",
    "- group 1 <br>\n",
    "    sample size: 40 <br> $\\mu$ 90 days <br> $\\sigma$ 15 days <br> \n",
    "- group 2 <br>\n",
    "    sample size: 50 <br> $\\mu$ 100 days <br> $\\sigma$ 20 days <br> \n",
    "    \n",
    "$H_0$ average time to get to the office: group 1 == group 2 <br> \n",
    "    *** \\beta_1 = \\beta_2 with \\alpha = 0.05 *** <br>\n",
    "$H_A$ average time to get to the office: group 1 != group 2 <br> \n",
    "\n",
    "\n",
    "- Continuous variables of discrete groups\n",
    "- Two samples\n",
    "- Two tailed test"
   ]
  },
  {
   "cell_type": "code",
   "execution_count": 8,
   "id": "30d9a5ea-f32b-4906-a10f-89a318f17a93",
   "metadata": {},
   "outputs": [],
   "source": [
    "alpha = 0.05\n",
    "gp1_obs = 40\n",
    "gp1_mean = 90\n",
    "gp1_sd = 15\n",
    "gp2_obs = 50\n",
    "gp2_mean = 100\n",
    "gp2_sd = 20"
   ]
  },
  {
   "cell_type": "markdown",
   "id": "b8fa949f-db62-4a79-a94d-59ec1e2afacd",
   "metadata": {},
   "source": [
    "- Continuous variables of discrete groups\n",
    "- Two samples\n",
    "- Two tailed test"
   ]
  },
  {
   "cell_type": "code",
   "execution_count": 29,
   "id": "e05b51e9-a313-40c3-8968-5e367f0c6b50",
   "metadata": {},
   "outputs": [
    {
     "data": {
      "text/plain": [
       "[<matplotlib.lines.Line2D at 0x7fd524cfd1c0>]"
      ]
     },
     "execution_count": 29,
     "metadata": {},
     "output_type": "execute_result"
    },
    {
     "data": {
      "image/png": "[encoded data removed]",
      "text/plain": [
       "<Figure size 640x480 with 1 Axes>"
      ]
     },
     "metadata": {},
     "output_type": "display_data"
    }
   ],
   "source": [
    "x = np.arange(50,150)\n",
    "\n",
    "y1 = stats.norm(90,15).pdf(x)\n",
    "y2 = stats.norm(100,20).pdf(x)\n",
    "\n",
    "plt.plot(x,y1)\n",
    "plt.plot(x,y2)"
   ]
  },
  {
   "cell_type": "code",
   "execution_count": 30,
   "id": "f2912567-1ee6-4d49-aee7-b3362ae065aa",
   "metadata": {},
   "outputs": [
    {
     "name": "stdout",
     "output_type": "stream",
     "text": [
      "169.11 452.558\n"
     ]
    }
   ],
   "source": [
    "# generating random sample observations for our two groups\n",
    "\n",
    "# 90 and 100 represent the mean, 15 and 20 represent the standard deviation\n",
    "# rvs is the number of observations for the samples\n",
    "office_1 = stats.norm(90,15).rvs(40)\n",
    "office_2 = stats.norm(100,20).rvs(50)\n",
    "\n",
    "print(round(office_1.var(),3), round(office_2.var(),3))"
   ]
  },
  {
   "cell_type": "code",
   "execution_count": 36,
   "id": "99f45120-f79a-4c2e-9adc-822c4a698bd0",
   "metadata": {},
   "outputs": [
    {
     "name": "stdout",
     "output_type": "stream",
     "text": [
      "0.03716213409371288 4.477810300809561\n",
      "We can reject H0\n"
     ]
    }
   ],
   "source": [
    "tstat, pval = stats.levene(office_1,office_2)\n",
    "print(pval, tstat)\n",
    "if pval < alpha:\n",
    "    print('We can reject H0')\n",
    "else:\n",
    "    print('We cannot reject H0')"
   ]
  },
  {
   "cell_type": "code",
   "execution_count": 37,
   "id": "292b0d94-b7c8-4fbb-bb1c-3b2950146ebf",
   "metadata": {},
   "outputs": [
    {
     "name": "stdout",
     "output_type": "stream",
     "text": [
      "t-stat: 4.47781\n",
      "p-value: 0.03716\n"
     ]
    }
   ],
   "source": [
    "tstat, pval - stats.ttest_ind(office_1,office_2, equal_var = True)\n",
    "print(f't-stat: {round(tstat,5)}')\n",
    "print('p-value:',round(pval,5))"
   ]
  },
  {
   "cell_type": "code",
   "execution_count": 38,
   "id": "e0335bb7-7190-4903-a4f2-6169d7395903",
   "metadata": {},
   "outputs": [
    {
     "name": "stdout",
     "output_type": "stream",
     "text": [
      "We can reject H0\n"
     ]
    }
   ],
   "source": [
    "if pval < 0.05:\n",
    "    print('We can reject H0')\n",
    "else:\n",
    "    print('We cannot reject H0')"
   ]
  },
  {
   "cell_type": "markdown",
   "id": "11956374-91ad-407e-80c0-63a379857eee",
   "metadata": {},
   "source": [
    "### 3. Load the mpg dataset and use it to answer the following questions:\n",
    "\n",
    "- Is there a difference in fuel-efficiency in cars from 2008 vs 1999?\n",
    "- Are compact cars more fuel-efficient than the average car?\n",
    "- Do manual cars get better gas mileage than automatic cars?"
   ]
  },
  {
   "cell_type": "markdown",
   "id": "c73da26b-3839-41ca-a740-fc2b3681ec71",
   "metadata": {},
   "source": [
    "$H_0$ fuel efficiency between cars: <br>\n",
    "$\\beta$ year2008 != $\\beta$ year1999\n",
    "\n",
    "$H_A$ fuel efficiency between cars: <br>\n",
    "$\\beta$ year2008 == $\\beta$ year1999\n",
    "\n",
    "- two tailed test, two samples"
   ]
  },
  {
   "cell_type": "code",
   "execution_count": null,
   "id": "9c0fc7ab-10b6-42b5-a7d4-6cd444b77c5c",
   "metadata": {},
   "outputs": [],
   "source": []
  },
  {
   "cell_type": "code",
   "execution_count": null,
   "id": "bc2da07b-c47a-4a6b-9ec7-5cef2d69dcbd",
   "metadata": {},
   "outputs": [],
   "source": []
  },
  {
   "cell_type": "code",
   "execution_count": null,
   "id": "43ba4c5d-0f03-48cc-93dc-37d60399dac3",
   "metadata": {},
   "outputs": [],
   "source": []
  }
 ],
 "metadata": {
  "kernelspec": {
   "display_name": "Python 3 (ipykernel)",
   "language": "python",
   "name": "python3"
  },
  "language_info": {
   "codemirror_mode": {
    "name": "ipython",
    "version": 3
   },
   "file_extension": ".py",
   "mimetype": "text/x-python",
   "name": "python",
   "nbconvert_exporter": "python",
   "pygments_lexer": "ipython3",
   "version": "3.9.13"
  }
 },
 "nbformat": 4,
 "nbformat_minor": 5
}
