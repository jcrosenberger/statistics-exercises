{
 "cells": [
  {
   "cell_type": "code",
   "execution_count": 1,
   "id": "d1f13505-6481-4cac-8c8e-b32a89b0705d",
   "metadata": {},
   "outputs": [],
   "source": [
    "import matplotlib.pyplot as plt\n",
    "import numpy as np\n",
    "import pandas as pd"
   ]
  },
  {
   "cell_type": "code",
   "execution_count": 2,
   "id": "ac4f813d-00d7-41e3-84d1-26f7acc1c968",
   "metadata": {},
   "outputs": [],
   "source": [
    "churn = pd.read_csv('/Users/CryanRedrose/codeup-data-science/CodeUp/telco-churn.xls')"
   ]
  },
  {
   "cell_type": "markdown",
   "id": "49cd55ae-a056-4d9a-a0f0-6d375bddac15",
   "metadata": {},
   "source": [
    "## Exercises\n",
    "### For each of the following questions, formulate a null and alternative hypothesis (be as specific as you can be), then give an example of what a true positive, true negative, type I and type II errors would look like."
   ]
  },
  {
   "cell_type": "markdown",
   "id": "c993760e-d807-46aa-93f0-619c71a49c0d",
   "metadata": {},
   "source": [
    "### 1. Has the network latency gone up since we switched internet service providers?"
   ]
  },
  {
   "cell_type": "markdown",
   "id": "8d4de32a-5dca-4d5f-bc9b-5ba787e38ff4",
   "metadata": {},
   "source": [
    "- I prefered two tests: \n",
    "1. Is there a difference in latency?\n",
    "    - $H_{0}$ network latency with ISP A == network latency with ISP B <br>\n",
    "    - $H_{A}$ network latency with ISP A != network latency with ISP B\n",
    "\n",
    "2. Did latency with ISP B get worse? (go up)\n",
    "    - $H_{0}$ network latency with ISP B > network latency with ISP A\n",
    "    - $H_{A}$ network latency with ISP B <= network latency with ISP A\n",
    "\n",
    "- True positive:\n",
    "    - Network latency with ISP B is not different than Network latency with ISP A and it is true\n",
    "- True negative:\n",
    "    - Network latency with ISP B is different than Network latency with ISP A and it is true\n",
    "- False positive:\n",
    "    - Network latency with ISP B is not different than Network latency with ISP A but it is not true\n",
    "- False negative:\n",
    "    - Network latency with ISP B is diffeent than Network latency with ISP A but we claimed it was not different"
   ]
  },
  {
   "cell_type": "markdown",
   "id": "942f38a8-3431-4d46-a61b-d11e5bb4ce70",
   "metadata": {},
   "source": [
    "### 2. Is the website redesign any good?"
   ]
  },
  {
   "cell_type": "markdown",
   "id": "18c8fded-1a6a-4155-b7e2-bd268633426a",
   "metadata": {},
   "source": [
    "### 3. Is our television ad driving more sales?"
   ]
  },
  {
   "cell_type": "markdown",
   "id": "fa14d545-1546-4e8b-a242-aa9cc0d0ee63",
   "metadata": {},
   "source": [
    "#### Did sales increase after new adverts?\n",
    "    \n",
    "$H_{0}$ $\\overline{sales}$ prior to new adverts >= $\\overline{sales}$ post new adverts <br>\n",
    "$H_{A}$ $\\overline{sales}$ prior to new adverts < $\\overline{sales}$ post new adverts \n",
    "     \n",
    "- True positive:\n",
    "     - sales post new adverts > than pre adverts and true\n",
    "- True negative:\n",
    "    - sales post new adverts <= than pre adverts and true\n",
    "- False positive:\n",
    "    - sales post new adverts > than pre adverts but false\n",
    "- False negative:\n",
    "    - sale post new adverts <= than pre adverts but false"
   ]
  },
  {
   "cell_type": "code",
   "execution_count": null,
   "id": "f9ff8374-c405-4f9e-be5c-40cd09083025",
   "metadata": {},
   "outputs": [],
   "source": []
  }
 ],
 "metadata": {
  "kernelspec": {
   "display_name": "Python 3 (ipykernel)",
   "language": "python",
   "name": "python3"
  },
  "language_info": {
   "codemirror_mode": {
    "name": "ipython",
    "version": 3
   },
   "file_extension": ".py",
   "mimetype": "text/x-python",
   "name": "python",
   "nbconvert_exporter": "python",
   "pygments_lexer": "ipython3",
   "version": "3.9.13"
  }
 },
 "nbformat": 4,
 "nbformat_minor": 5
}
