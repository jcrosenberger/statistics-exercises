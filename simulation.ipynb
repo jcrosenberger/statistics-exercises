{
 "cells": [
  {
   "cell_type": "code",
   "execution_count": 7,
   "id": "89127368-8eae-47f9-a144-004d192e5650",
   "metadata": {},
   "outputs": [],
   "source": [
    "import numpy as np\n",
    "import pandas as pd\n",
    "import matplotlib.pyplot as plt\n",
    "%config InlineBackend.figure_format = 'retina'\n",
    "import viz # curriculum example visualizations\n",
    "\n",
    "np.random.seed(7*7)"
   ]
  },
  {
   "cell_type": "markdown",
   "id": "6016003c-6a26-46ee-9d1a-840ad05a8fbd",
   "metadata": {},
   "source": [
    "### 1. How likely is it that you roll doubles when rolling two dice?"
   ]
  },
  {
   "cell_type": "code",
   "execution_count": 51,
   "id": "3361926b-73b0-478d-9ea5-02b3332989df",
   "metadata": {},
   "outputs": [
    {
     "data": {
      "text/plain": [
       "array([[5, 3],\n",
       "       [4, 6],\n",
       "       [2, 4],\n",
       "       ...,\n",
       "       [3, 1],\n",
       "       [1, 6],\n",
       "       [3, 2]])"
      ]
     },
     "execution_count": 51,
     "metadata": {},
     "output_type": "execute_result"
    }
   ],
   "source": [
    "n_simulations = nrows = 10000\n",
    "n_dice_rolled = ncols = 2\n",
    "\n",
    "rolls = np.random.choice([1, 2, 3, 4, 5, 6], size = (nrows, ncols))\n",
    "rolls"
   ]
  },
  {
   "cell_type": "code",
   "execution_count": 52,
   "id": "c2eb7d8b-b205-4ec1-8f39-03a9290e4aa9",
   "metadata": {},
   "outputs": [],
   "source": [
    "rolls_df = pd.DataFrame(rolls, columns=['roll_1', 'roll_2'])"
   ]
  },
  {
   "cell_type": "code",
   "execution_count": 53,
   "id": "7004d0c0-369a-4762-9e9f-b10b24876b63",
   "metadata": {},
   "outputs": [
    {
     "data": {
      "text/html": [
       "<div>\n",
       "<style scoped>\n",
       "    .dataframe tbody tr th:only-of-type {\n",
       "        vertical-align: middle;\n",
       "    }\n",
       "\n",
       "    .dataframe tbody tr th {\n",
       "        vertical-align: top;\n",
       "    }\n",
       "\n",
       "    .dataframe thead th {\n",
       "        text-align: right;\n",
       "    }\n",
       "</style>\n",
       "<table border=\"1\" class=\"dataframe\">\n",
       "  <thead>\n",
       "    <tr style=\"text-align: right;\">\n",
       "      <th></th>\n",
       "      <th>roll_1</th>\n",
       "      <th>roll_2</th>\n",
       "      <th>doubles</th>\n",
       "    </tr>\n",
       "  </thead>\n",
       "  <tbody>\n",
       "    <tr>\n",
       "      <th>0</th>\n",
       "      <td>5</td>\n",
       "      <td>3</td>\n",
       "      <td>False</td>\n",
       "    </tr>\n",
       "    <tr>\n",
       "      <th>1</th>\n",
       "      <td>4</td>\n",
       "      <td>6</td>\n",
       "      <td>False</td>\n",
       "    </tr>\n",
       "    <tr>\n",
       "      <th>2</th>\n",
       "      <td>2</td>\n",
       "      <td>4</td>\n",
       "      <td>False</td>\n",
       "    </tr>\n",
       "    <tr>\n",
       "      <th>3</th>\n",
       "      <td>5</td>\n",
       "      <td>1</td>\n",
       "      <td>False</td>\n",
       "    </tr>\n",
       "    <tr>\n",
       "      <th>4</th>\n",
       "      <td>2</td>\n",
       "      <td>1</td>\n",
       "      <td>False</td>\n",
       "    </tr>\n",
       "  </tbody>\n",
       "</table>\n",
       "</div>"
      ],
      "text/plain": [
       "   roll_1  roll_2  doubles\n",
       "0       5       3    False\n",
       "1       4       6    False\n",
       "2       2       4    False\n",
       "3       5       1    False\n",
       "4       2       1    False"
      ]
     },
     "execution_count": 53,
     "metadata": {},
     "output_type": "execute_result"
    }
   ],
   "source": [
    "rolls_df['doubles'] = rolls_df.apply(lambda row: row['roll_1'] == row['roll_2'], axis=1)\n",
    "rolls_df.head(5)"
   ]
  },
  {
   "cell_type": "code",
   "execution_count": 54,
   "id": "5289a814-deff-4d99-8c2b-d242584abea8",
   "metadata": {},
   "outputs": [
    {
     "data": {
      "text/plain": [
       "0.1694"
      ]
     },
     "execution_count": 54,
     "metadata": {},
     "output_type": "execute_result"
    }
   ],
   "source": [
    "# slicing into the multidimensional array, comparing them, and then taking a mean of the resulting\n",
    "# true/false results\n",
    "(rolls[:,0] == rolls[:,1]).mean()"
   ]
  },
  {
   "cell_type": "code",
   "execution_count": 55,
   "id": "7099dcb7-749d-4c2e-90cc-bd5c63a4f29a",
   "metadata": {},
   "outputs": [
    {
     "name": "stdout",
     "output_type": "stream",
     "text": [
      "There is about a 16.94 percent chance of rolling doubles with two dice.\n"
     ]
    }
   ],
   "source": [
    "print('There is about a',round(rolls_df.doubles.mean()*100,2),'percent chance of rolling doubles with two dice.')"
   ]
  },
  {
   "cell_type": "markdown",
   "id": "cfc4ad73-75cb-4b49-b29a-dcecef65116b",
   "metadata": {},
   "source": [
    "### 2. If you flip 8 coins, what is the probability of getting exactly 3 heads? What is the probability of getting more than 3 heads?"
   ]
  },
  {
   "cell_type": "code",
   "execution_count": 30,
   "id": "4f0ad2f2-2b5d-4ee0-9826-3db0615f97ac",
   "metadata": {},
   "outputs": [
    {
     "data": {
      "text/plain": [
       "array([[2, 2, 1, ..., 1, 2, 1],\n",
       "       [1, 2, 1, ..., 2, 2, 1],\n",
       "       [1, 2, 2, ..., 2, 1, 1],\n",
       "       ...,\n",
       "       [2, 1, 2, ..., 1, 2, 1],\n",
       "       [2, 1, 2, ..., 1, 2, 1],\n",
       "       [2, 2, 1, ..., 2, 1, 2]])"
      ]
     },
     "execution_count": 30,
     "metadata": {},
     "output_type": "execute_result"
    }
   ],
   "source": [
    "n_simulations = nrows = 1000\n",
    "n_flips       = ncols = 8\n",
    "\n",
    "flips = np.random.choice([1, 2], size = (nrows, ncols))\n",
    "flips"
   ]
  },
  {
   "cell_type": "code",
   "execution_count": 43,
   "id": "b3260485-8e45-40e4-8f2c-d6ee01902ef7",
   "metadata": {},
   "outputs": [
    {
     "data": {
      "text/html": [
       "<div>\n",
       "<style scoped>\n",
       "    .dataframe tbody tr th:only-of-type {\n",
       "        vertical-align: middle;\n",
       "    }\n",
       "\n",
       "    .dataframe tbody tr th {\n",
       "        vertical-align: top;\n",
       "    }\n",
       "\n",
       "    .dataframe thead th {\n",
       "        text-align: right;\n",
       "    }\n",
       "</style>\n",
       "<table border=\"1\" class=\"dataframe\">\n",
       "  <thead>\n",
       "    <tr style=\"text-align: right;\">\n",
       "      <th></th>\n",
       "      <th>1</th>\n",
       "      <th>2</th>\n",
       "      <th>3</th>\n",
       "      <th>4</th>\n",
       "      <th>5</th>\n",
       "      <th>6</th>\n",
       "      <th>7</th>\n",
       "      <th>8</th>\n",
       "    </tr>\n",
       "  </thead>\n",
       "  <tbody>\n",
       "    <tr>\n",
       "      <th>0</th>\n",
       "      <td>2</td>\n",
       "      <td>2</td>\n",
       "      <td>1</td>\n",
       "      <td>1</td>\n",
       "      <td>2</td>\n",
       "      <td>1</td>\n",
       "      <td>2</td>\n",
       "      <td>1</td>\n",
       "    </tr>\n",
       "    <tr>\n",
       "      <th>1</th>\n",
       "      <td>1</td>\n",
       "      <td>2</td>\n",
       "      <td>1</td>\n",
       "      <td>2</td>\n",
       "      <td>2</td>\n",
       "      <td>2</td>\n",
       "      <td>2</td>\n",
       "      <td>1</td>\n",
       "    </tr>\n",
       "    <tr>\n",
       "      <th>2</th>\n",
       "      <td>1</td>\n",
       "      <td>2</td>\n",
       "      <td>2</td>\n",
       "      <td>1</td>\n",
       "      <td>1</td>\n",
       "      <td>2</td>\n",
       "      <td>1</td>\n",
       "      <td>1</td>\n",
       "    </tr>\n",
       "    <tr>\n",
       "      <th>3</th>\n",
       "      <td>2</td>\n",
       "      <td>2</td>\n",
       "      <td>2</td>\n",
       "      <td>2</td>\n",
       "      <td>2</td>\n",
       "      <td>1</td>\n",
       "      <td>2</td>\n",
       "      <td>1</td>\n",
       "    </tr>\n",
       "    <tr>\n",
       "      <th>4</th>\n",
       "      <td>2</td>\n",
       "      <td>1</td>\n",
       "      <td>2</td>\n",
       "      <td>2</td>\n",
       "      <td>1</td>\n",
       "      <td>1</td>\n",
       "      <td>1</td>\n",
       "      <td>1</td>\n",
       "    </tr>\n",
       "  </tbody>\n",
       "</table>\n",
       "</div>"
      ],
      "text/plain": [
       "   1  2  3  4  5  6  7  8\n",
       "0  2  2  1  1  2  1  2  1\n",
       "1  1  2  1  2  2  2  2  1\n",
       "2  1  2  2  1  1  2  1  1\n",
       "3  2  2  2  2  2  1  2  1\n",
       "4  2  1  2  2  1  1  1  1"
      ]
     },
     "execution_count": 43,
     "metadata": {},
     "output_type": "execute_result"
    }
   ],
   "source": [
    "flips_df = pd.DataFrame(flips, columns=['1','2','3','4','5','6','7','8'])\n",
    "flips_df.head()"
   ]
  },
  {
   "cell_type": "code",
   "execution_count": 56,
   "id": "17a6b4fe-693f-4fb8-b948-701601ef175c",
   "metadata": {},
   "outputs": [],
   "source": [
    "#flips_df['summed']= flips_df.apply(lambda row: np.count_nonzero(x==1), axis=1)"
   ]
  },
  {
   "cell_type": "code",
   "execution_count": 38,
   "id": "bf81b15c-44b4-49a3-9fa9-46191ebd3f6d",
   "metadata": {},
   "outputs": [],
   "source": [
    "flip_example = [1,2,1,1,2,1]\n",
    "num_flips=flip_example.count(1)\n",
    "num_flips"
   ]
  },
  {
   "cell_type": "code",
   "execution_count": 61,
   "id": "16a157d0-c341-437c-8c56-03a76f37885c",
   "metadata": {},
   "outputs": [
    {
     "data": {
      "text/plain": [
       "0      12\n",
       "1      13\n",
       "2      11\n",
       "3      14\n",
       "4      11\n",
       "       ..\n",
       "995    12\n",
       "996    13\n",
       "997    12\n",
       "998    12\n",
       "999    14\n",
       "Length: 1000, dtype: int64"
      ]
     },
     "execution_count": 61,
     "metadata": {},
     "output_type": "execute_result"
    }
   ],
   "source": [
    "flips_df.sum(axis = 1)"
   ]
  },
  {
   "cell_type": "code",
   "execution_count": 62,
   "id": "3cfcb7a5-732a-49d8-8bfd-872d5abcf678",
   "metadata": {},
   "outputs": [
    {
     "data": {
      "text/plain": [
       "0.0"
      ]
     },
     "execution_count": 62,
     "metadata": {},
     "output_type": "execute_result"
    }
   ],
   "source": [
    "(flips_df.sum(axis = 1) ==3).mean()"
   ]
  },
  {
   "cell_type": "markdown",
   "id": "afe54b85-be1c-4036-be88-d3c8c4eb3f07",
   "metadata": {},
   "source": [
    "### 3. There are approximately 3 web development cohorts for every 1 data science cohort at Codeup. Assuming that Codeup randomly selects an alumni to put on a billboard, what are the odds that the two billboards I drive past both have data science students on them?"
   ]
  },
  {
   "cell_type": "code",
   "execution_count": 72,
   "id": "90c6fb6c-f146-4b06-95c9-5626e1ba77b6",
   "metadata": {},
   "outputs": [
    {
     "data": {
      "text/plain": [
       "array([[0, 0],\n",
       "       [0, 1],\n",
       "       [0, 0],\n",
       "       ...,\n",
       "       [1, 0],\n",
       "       [0, 0],\n",
       "       [0, 0]])"
      ]
     },
     "execution_count": 72,
     "metadata": {},
     "output_type": "execute_result"
    }
   ],
   "source": [
    "# WD = 0, DS = 1\n",
    "bb = np.random.choice([0,1], size=(100000, 2), p = [0.75, 0.25])\n",
    "bb"
   ]
  },
  {
   "cell_type": "code",
   "execution_count": 73,
   "id": "9b1b4533-3d61-49a5-93cd-3ffc09014867",
   "metadata": {},
   "outputs": [
    {
     "data": {
      "text/plain": [
       "0.06358"
      ]
     },
     "execution_count": 73,
     "metadata": {},
     "output_type": "execute_result"
    }
   ],
   "source": [
    "p = (bb.sum(axis = 1) ==2).mean()\n",
    "p"
   ]
  },
  {
   "cell_type": "markdown",
   "id": "9765b069-ad55-46de-a42a-3259c9450180",
   "metadata": {},
   "source": [
    "### 4. Codeup students buy, on average, 3 poptart packages with a standard deviation of 1.5 a day from the snack vending machine. If on monday the machine is restocked with 17 poptart packages, how likely is it that I will be able to buy some poptarts on Friday afternoon? (Remember, if you have mean and standard deviation, use the np.random.normal) You'll need to make a judgement call on how to handle some of your values."
   ]
  },
  {
   "cell_type": "code",
   "execution_count": 75,
   "id": "c60fccb9-128e-4ff6-9e81-5737cd417d8f",
   "metadata": {},
   "outputs": [
    {
     "data": {
      "text/plain": [
       "array([[ 2.8455428 ,  0.11455904,  1.36898848,  4.28122338,  3.76032539],\n",
       "       [ 2.13895903,  0.84835603,  0.35482141,  3.74931045,  4.15375703],\n",
       "       [ 3.67726588,  1.44597986,  4.66662736,  2.95507695,  2.25784421],\n",
       "       ...,\n",
       "       [-0.26561806,  1.59735257,  3.8294491 ,  3.54704657,  2.53501097],\n",
       "       [ 3.17162593,  1.82635816,  3.29815202,  3.0548068 ,  1.90786251],\n",
       "       [ 3.06722991,  1.84190249,  3.10817151,  1.47671641,  0.02570536]])"
      ]
     },
     "execution_count": 75,
     "metadata": {},
     "output_type": "execute_result"
    }
   ],
   "source": [
    "pop = np.random.normal(3,1.5,size = (10000, 5))\n",
    "pop"
   ]
  },
  {
   "cell_type": "code",
   "execution_count": 78,
   "id": "1b76d057-fe1d-4d1b-8425-2b3c63392268",
   "metadata": {},
   "outputs": [
    {
     "data": {
      "text/plain": [
       "Text(0.5, 1.0, 'Distribution of Poptart Packages Purchased Each Day')"
      ]
     },
     "execution_count": 78,
     "metadata": {},
     "output_type": "execute_result"
    },
    {
     "data": {
      "image/png": "[encoded data removed]",
      "text/plain": [
       "<Figure size 900x600 with 1 Axes>"
      ]
     },
     "metadata": {
      "image/png": {
       "height": 527,
       "width": 769
      }
     },
     "output_type": "display_data"
    }
   ],
   "source": [
    "plt.hist(pop);\n",
    "plt.title('Distribution of Poptart Packages Purchased Each Day')"
   ]
  },
  {
   "cell_type": "code",
   "execution_count": 81,
   "id": "55aa9ee3-1a26-471f-83f9-645f7ded2291",
   "metadata": {},
   "outputs": [
    {
     "data": {
      "text/plain": [
       "Text(0.5, 1.0, 'Distribution of Poptart Packages Purchased Each Day')"
      ]
     },
     "execution_count": 81,
     "metadata": {},
     "output_type": "execute_result"
    },
    {
     "data": {
      "image/png": "[encoded data removed]",
      "text/plain": [
       "<Figure size 900x600 with 1 Axes>"
      ]
     },
     "metadata": {
      "image/png": {
       "height": 527,
       "width": 762
      }
     },
     "output_type": "display_data"
    }
   ],
   "source": [
    "#looks more like a histograph\n",
    "plt.hist(np.random.normal(3,1.5,size = (10000)))\n",
    "plt.title('Distribution of Poptart Packages Purchased Each Day')"
   ]
  },
  {
   "cell_type": "markdown",
   "id": "bb83b139-8b58-4f69-a4e5-05278f3a719b",
   "metadata": {},
   "source": [
    "#### If we assume that about 4 poptarts are eaten every day based on the graph above, providing 16 poptarts eaten before friday, leaving 1 poptart to be purchased then:"
   ]
  },
  {
   "cell_type": "code",
   "execution_count": 82,
   "id": "0286e8c8-7680-4e3f-a83b-e5ff0145af44",
   "metadata": {},
   "outputs": [
    {
     "data": {
      "text/plain": [
       "array([ True,  True,  True, ...,  True,  True,  True])"
      ]
     },
     "execution_count": 82,
     "metadata": {},
     "output_type": "execute_result"
    }
   ],
   "source": [
    "pop.sum(axis = 1) <= 16"
   ]
  },
  {
   "cell_type": "code",
   "execution_count": 84,
   "id": "f1cc0c2e-b384-474d-b775-5417bf25325b",
   "metadata": {},
   "outputs": [
    {
     "name": "stdout",
     "output_type": "stream",
     "text": [
      "There is a 0.6258 percent chance of there being a poptart friday to purchase\n"
     ]
    }
   ],
   "source": [
    "print('There is a',(pop.sum(axis =1) <= 16).mean(),'percent chance of there being a poptart friday to purchase')"
   ]
  },
  {
   "cell_type": "markdown",
   "id": "808a17e2-8789-4fb2-99eb-8e08227d4b49",
   "metadata": {},
   "source": [
    "### 5. Compare Heights\n",
    "\n",
    "- Men have an average height of 178 cm and standard deviation of 8cm.\n",
    "- Women have a mean of 170, sd = 6cm.\n",
    "- Since you have means and standard deviations, you can use np.random.normal to generate observations.\n",
    "- If a man and woman are chosen at random, what is the likelihood the woman is taller than the man?"
   ]
  },
  {
   "cell_type": "markdown",
   "id": "6978bb31-0046-4b81-a462-80cef20c36b8",
   "metadata": {},
   "source": [
    "### 6. When installing anaconda on a student's computer, there's a 1 in 250 chance that the download is corrupted and the installation fails.\n",
    "- What are the odds that after having 50 students download anaconda, no one has an installation issue? 100 students?\n",
    "- What is the probability that we observe an installation issue within the first 150 students that download anaconda?\n",
    "- How likely is it that 450 students all download anaconda without an issue?"
   ]
  },
  {
   "cell_type": "code",
   "execution_count": 85,
   "id": "4210d008-62cb-4b52-acbc-d22a598472f6",
   "metadata": {},
   "outputs": [
    {
     "data": {
      "text/plain": [
       "array([[0, 0, 0, ..., 0, 0, 0],\n",
       "       [0, 0, 0, ..., 0, 0, 0],\n",
       "       [0, 0, 0, ..., 0, 0, 0],\n",
       "       ...,\n",
       "       [0, 0, 0, ..., 0, 0, 0],\n",
       "       [0, 0, 0, ..., 0, 0, 0],\n",
       "       [0, 0, 0, ..., 0, 0, 0]])"
      ]
     },
     "execution_count": 85,
     "metadata": {},
     "output_type": "execute_result"
    }
   ],
   "source": [
    "install = np.random.choice([0,1], size = (10000,50), p = [249/250, 1/250])\n",
    "install"
   ]
  },
  {
   "cell_type": "code",
   "execution_count": 87,
   "id": "ab8ef382-af41-41cc-974e-9397b5d84cce",
   "metadata": {},
   "outputs": [
    {
     "name": "stdout",
     "output_type": "stream",
     "text": [
      "There is a  0.8199  chance there will not be an issue.\n"
     ]
    }
   ],
   "source": [
    "# probabilty of 0 issues for 50 students\n",
    "print('There is a ',(install.sum(axis = 1) == 0).mean(),' chance there will not be an issue.')"
   ]
  },
  {
   "cell_type": "code",
   "execution_count": 88,
   "id": "b6a9ed24-3462-4c7f-b862-ee7b13162173",
   "metadata": {},
   "outputs": [],
   "source": [
    "install_100 = np.random.choice([0,1], size = (10000,100), p = [249/250, 1/250])"
   ]
  },
  {
   "cell_type": "code",
   "execution_count": 89,
   "id": "4aec3453-e08b-4405-830e-8831115ad02e",
   "metadata": {},
   "outputs": [
    {
     "data": {
      "text/plain": [
       "0.6642"
      ]
     },
     "execution_count": 89,
     "metadata": {},
     "output_type": "execute_result"
    }
   ],
   "source": [
    "(install_100.sum(axis = 1) == 0).mean()"
   ]
  },
  {
   "cell_type": "code",
   "execution_count": 90,
   "id": "d222242f-a76c-4485-ac99-30807d127b97",
   "metadata": {},
   "outputs": [],
   "source": [
    "install_150 = np.random.choice([0,1], size = (10000,150), p = [249/250, 1/250])"
   ]
  },
  {
   "cell_type": "code",
   "execution_count": 91,
   "id": "34a5421b-2121-4c69-b77d-2a998be0bd2f",
   "metadata": {},
   "outputs": [
    {
     "data": {
      "text/plain": [
       "0.5375"
      ]
     },
     "execution_count": 91,
     "metadata": {},
     "output_type": "execute_result"
    }
   ],
   "source": [
    "(install_150.sum(axis = 1) == 0).mean()"
   ]
  },
  {
   "cell_type": "code",
   "execution_count": 93,
   "id": "9fc38777-43f7-4d99-aa3e-229898a5393a",
   "metadata": {},
   "outputs": [],
   "source": [
    "install_450 = np.random.choice([0,1], size = (10000,450), p = [249/250, 1/250])\n",
    "fourfifty = (install_450.sum(axis = 1) == 0).mean()"
   ]
  },
  {
   "cell_type": "code",
   "execution_count": 94,
   "id": "7241fd54-dbe5-4403-bb0b-37fa2961f4a7",
   "metadata": {},
   "outputs": [
    {
     "name": "stdout",
     "output_type": "stream",
     "text": [
      "There is 0.1698 percent chance of the installation going cleanly for every student in a class of 450.\n"
     ]
    }
   ],
   "source": [
    "print('There is',fourfifty,'percent chance of the installation going cleanly for every student in a class of 450.')"
   ]
  },
  {
   "cell_type": "markdown",
   "id": "bace8541-f024-4359-b34d-3e56dffdd5da",
   "metadata": {},
   "source": [
    "### 7. There's a 70% chance on any given day that there will be at least one food truck at Travis Park.\n",
    "- However, you haven't seen a food truck there in 3 days. How unlikely is this?\n",
    "- How likely is it that a food truck will show up sometime this week?"
   ]
  },
  {
   "cell_type": "code",
   "execution_count": 96,
   "id": "0a76e32f-b51b-4479-82b0-eff3a8d2f49b",
   "metadata": {},
   "outputs": [
    {
     "data": {
      "text/plain": [
       "array([[1, 1, 1],\n",
       "       [1, 1, 1],\n",
       "       [1, 1, 1],\n",
       "       ...,\n",
       "       [1, 1, 1],\n",
       "       [0, 0, 1],\n",
       "       [1, 1, 1]])"
      ]
     },
     "execution_count": 96,
     "metadata": {},
     "output_type": "execute_result"
    }
   ],
   "source": [
    "# 1 = truck, 0 = no truck\n",
    "trucks = np.random.choice([0,1], size = (10000, 3),p = [0.3,0.7])\n",
    "trucks"
   ]
  },
  {
   "cell_type": "code",
   "execution_count": 100,
   "id": "ed879df3-28da-4b82-8cf1-59f37262222c",
   "metadata": {},
   "outputs": [
    {
     "data": {
      "text/plain": [
       "0.0307"
      ]
     },
     "execution_count": 100,
     "metadata": {},
     "output_type": "execute_result"
    }
   ],
   "source": [
    "# how likely was it that no food trucks showed up three days in a row\n",
    "(trucks.sum(axis = 1) == 0).mean()"
   ]
  },
  {
   "cell_type": "code",
   "execution_count": 99,
   "id": "7a6c647a-5416-4ac4-b938-91d4edece2d0",
   "metadata": {},
   "outputs": [
    {
     "data": {
      "text/plain": [
       "array([[1, 1, 0, 0, 1],\n",
       "       [1, 1, 0, 1, 1],\n",
       "       [1, 0, 1, 0, 1],\n",
       "       ...,\n",
       "       [1, 1, 1, 0, 1],\n",
       "       [0, 1, 1, 1, 1],\n",
       "       [1, 0, 1, 0, 1]])"
      ]
     },
     "execution_count": 99,
     "metadata": {},
     "output_type": "execute_result"
    }
   ],
   "source": [
    "trucks1 = np.random.choice([0, 1], size = (10000, 5), p = [0.3, 0.7])\n",
    "trucks1"
   ]
  },
  {
   "cell_type": "code",
   "execution_count": 111,
   "id": "865d3962-3702-4de8-8a3b-c14ba461f6cc",
   "metadata": {},
   "outputs": [
    {
     "name": "stdout",
     "output_type": "stream",
     "text": [
      "99.83 %\n"
     ]
    }
   ],
   "source": [
    "# the likelyhood that a food truck will show up at least one time in a week\n",
    "print((round(1-(trucks1.sum(axis = 1) == 0).mean(),4))*100,'%')"
   ]
  },
  {
   "cell_type": "markdown",
   "id": "58ba7872-c26a-431f-af13-502f90cc20dd",
   "metadata": {},
   "source": [
    "### 8. If 23 people are in the same room, what are the odds that two of them share a birthday? What if it's 20 people? 40 people?"
   ]
  },
  {
   "cell_type": "code",
   "execution_count": 130,
   "id": "c30878f9-bf19-402b-976e-919bd027b022",
   "metadata": {},
   "outputs": [
    {
     "data": {
      "text/plain": [
       "array([[352,   6,  64, ...,  61, 236, 190],\n",
       "       [126, 191, 296, ...,  51, 129, 202],\n",
       "       [ 24, 175, 104, ..., 363, 315, 165],\n",
       "       ...,\n",
       "       [ 20,  33, 137, ...,  24, 214,  68],\n",
       "       [139, 259, 232, ..., 231, 316,  70],\n",
       "       [ 50,  77,  62, ..., 221,  47, 133]])"
      ]
     },
     "execution_count": 130,
     "metadata": {},
     "output_type": "execute_result"
    }
   ],
   "source": [
    "bd23 = np.random.choice(range (1,366),size = (10000,23))\n",
    "bd20 = np.random.choice(range (1,366),size = (10000,20))\n",
    "bd40 = np.random.choice(range (1,366),size = (10000,40))\n",
    "bd"
   ]
  },
  {
   "cell_type": "code",
   "execution_count": 125,
   "id": "1f3b1cb4-a305-4bb6-9d3a-90c96239534b",
   "metadata": {},
   "outputs": [
    {
     "data": {
      "text/plain": [
       "0       21\n",
       "1       22\n",
       "2       22\n",
       "3       23\n",
       "4       22\n",
       "        ..\n",
       "9995    22\n",
       "9996    22\n",
       "9997    23\n",
       "9998    23\n",
       "9999    23\n",
       "Length: 10000, dtype: int64"
      ]
     },
     "execution_count": 125,
     "metadata": {},
     "output_type": "execute_result"
    }
   ],
   "source": [
    "#any time there are fewer than 23 unique numbers, there was at least 1 birthday match\n",
    "pd.DataFrame(bd23).nunique(axis = 1)"
   ]
  },
  {
   "cell_type": "code",
   "execution_count": 126,
   "id": "8a98c7e2-5cc8-490f-9e2e-7efbcaa1a6cf",
   "metadata": {},
   "outputs": [],
   "source": [
    "twenty_three_peeps=(pd.DataFrame(bd23).nunique(axis=1)<23).mean()"
   ]
  },
  {
   "cell_type": "code",
   "execution_count": 127,
   "id": "b199c055-1ac8-4dd6-8116-4e931d5966ae",
   "metadata": {},
   "outputs": [
    {
     "name": "stdout",
     "output_type": "stream",
     "text": [
      "If there are 23 people in a room, there is a 50.2 chance for two people to share a birthday.\n"
     ]
    }
   ],
   "source": [
    "print('If there are 23 people in a room, there is a',(twenty_three_peeps)*100,'chance for two people to share a birthday.')"
   ]
  },
  {
   "cell_type": "code",
   "execution_count": 128,
   "id": "f6851096-16d9-4d37-bd6a-cb4754bc4e45",
   "metadata": {},
   "outputs": [],
   "source": [
    "twenty_peeps=(pd.DataFrame(bd20).nunique(axis=1)<20).mean()"
   ]
  },
  {
   "cell_type": "code",
   "execution_count": 133,
   "id": "ac50822f-0c79-40ef-9905-7f8ab3753457",
   "metadata": {},
   "outputs": [
    {
     "name": "stdout",
     "output_type": "stream",
     "text": [
      "If there are 20 people in a room, there is a 41.2 chance for two people to share a birthday.\n"
     ]
    }
   ],
   "source": [
    "print('If there are 20 people in a room, there is a',round((twenty_peeps)*100,4),'chance for two people to share a birthday.')"
   ]
  },
  {
   "cell_type": "code",
   "execution_count": 131,
   "id": "627f0d0b-b3a9-4295-abe0-4dead16dc080",
   "metadata": {},
   "outputs": [],
   "source": [
    "forty_peeps=(pd.DataFrame(bd40).nunique(axis=1)<40).mean()"
   ]
  },
  {
   "cell_type": "code",
   "execution_count": 134,
   "id": "a9bef41d-3b54-4785-8a0f-c50ed06bf3db",
   "metadata": {},
   "outputs": [
    {
     "name": "stdout",
     "output_type": "stream",
     "text": [
      "If there are 40 people in a room, there is a 89.04 chance for two people to share a birthday.\n"
     ]
    }
   ],
   "source": [
    "print('If there are 40 people in a room, there is a',round((forty_peeps)*100,4),'chance for two people to share a birthday.')"
   ]
  },
  {
   "cell_type": "code",
   "execution_count": null,
   "id": "acbfad27-40aa-4c5e-ad3a-27baa5faf5f8",
   "metadata": {},
   "outputs": [],
   "source": []
  }
 ],
 "metadata": {
  "kernelspec": {
   "display_name": "Python 3 (ipykernel)",
   "language": "python",
   "name": "python3"
  },
  "language_info": {
   "codemirror_mode": {
    "name": "ipython",
    "version": 3
   },
   "file_extension": ".py",
   "mimetype": "text/x-python",
   "name": "python",
   "nbconvert_exporter": "python",
   "pygments_lexer": "ipython3",
   "version": "3.9.13"
  }
 },
 "nbformat": 4,
 "nbformat_minor": 5
}
